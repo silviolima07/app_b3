{
  "nbformat": 4,
  "nbformat_minor": 0,
  "metadata": {
    "colab": {
      "provenance": [],
      "mount_file_id": "1mq6QSirw-3yPqSniY6ciUa4WRhAP2jiQ",
      "authorship_tag": "ABX9TyMCpdHzneHlu45NPG+HHsvY",
      "include_colab_link": true
    },
    "kernelspec": {
      "name": "python3",
      "display_name": "Python 3"
    },
    "language_info": {
      "name": "python"
    }
  },
  "cells": [
    {
      "cell_type": "markdown",
      "metadata": {
        "id": "view-in-github",
        "colab_type": "text"
      },
      "source": [
        "<a href=\"https://colab.research.google.com/github/silviolima07/app_b3/blob/main/app_b3.ipynb\" target=\"_parent\"><img src=\"https://colab.research.google.com/assets/colab-badge.svg\" alt=\"Open In Colab\"/></a>"
      ]
    },
    {
      "cell_type": "code",
      "source": [
        "!pip install streamlit --q"
      ],
      "metadata": {
        "id": "CiUpxpVIha8b",
        "colab": {
          "base_uri": "https://localhost:8080/"
        },
        "outputId": "27b4612a-4ab1-4801-9f8d-cbf37ee9a1b4"
      },
      "execution_count": 7,
      "outputs": [
        {
          "output_type": "stream",
          "name": "stdout",
          "text": [
            "\u001b[2K     \u001b[90m━━━━━━━━━━━━━━━━━━━━━━━━━━━━━━━━━━━━━━━━\u001b[0m \u001b[32m8.9/8.9 MB\u001b[0m \u001b[31m120.8 MB/s\u001b[0m eta \u001b[36m0:00:00\u001b[0m\n",
            "\u001b[2K     \u001b[90m━━━━━━━━━━━━━━━━━━━━━━━━━━━━━━━━━━━━━━\u001b[0m \u001b[32m164.8/164.8 kB\u001b[0m \u001b[31m19.8 MB/s\u001b[0m eta \u001b[36m0:00:00\u001b[0m\n",
            "\u001b[?25h  Preparing metadata (setup.py) ... \u001b[?25l\u001b[?25hdone\n",
            "\u001b[2K     \u001b[90m━━━━━━━━━━━━━━━━━━━━━━━━━━━━━━━━━━━━━━\u001b[0m \u001b[32m184.3/184.3 kB\u001b[0m \u001b[31m24.3 MB/s\u001b[0m eta \u001b[36m0:00:00\u001b[0m\n",
            "\u001b[2K     \u001b[90m━━━━━━━━━━━━━━━━━━━━━━━━━━━━━━━━━━━━━━━━\u001b[0m \u001b[32m4.8/4.8 MB\u001b[0m \u001b[31m121.1 MB/s\u001b[0m eta \u001b[36m0:00:00\u001b[0m\n",
            "\u001b[2K     \u001b[90m━━━━━━━━━━━━━━━━━━━━━━━━━━━━━━━━━━━━━━━━\u001b[0m \u001b[32m82.1/82.1 kB\u001b[0m \u001b[31m10.8 MB/s\u001b[0m eta \u001b[36m0:00:00\u001b[0m\n",
            "\u001b[2K     \u001b[90m━━━━━━━━━━━━━━━━━━━━━━━━━━━━━━━━━━━━━━━━\u001b[0m \u001b[32m62.7/62.7 kB\u001b[0m \u001b[31m9.0 MB/s\u001b[0m eta \u001b[36m0:00:00\u001b[0m\n",
            "\u001b[?25h  Building wheel for validators (setup.py) ... \u001b[?25l\u001b[?25hdone\n"
          ]
        }
      ]
    },
    {
      "cell_type": "code",
      "source": [
        "!pip install pyngrok --q"
      ],
      "metadata": {
        "colab": {
          "base_uri": "https://localhost:8080/"
        },
        "id": "H6IGx0UvpUfh",
        "outputId": "6f0bb620-fc2a-4d22-8373-6653fd12f844"
      },
      "execution_count": 2,
      "outputs": [
        {
          "output_type": "stream",
          "name": "stdout",
          "text": [
            "\u001b[?25l     \u001b[90m━━━━━━━━━━━━━━━━━━━━━━━━━━━━━━━━━━━━━━━━\u001b[0m \u001b[32m0.0/681.2 kB\u001b[0m \u001b[31m?\u001b[0m eta \u001b[36m-:--:--\u001b[0m\r\u001b[2K     \u001b[90m━━━━━━━━━━━━━━━━━━━━━━━━━━━━━━━━━━━━━━\u001b[0m \u001b[32m681.2/681.2 kB\u001b[0m \u001b[31m36.8 MB/s\u001b[0m eta \u001b[36m0:00:00\u001b[0m\n",
            "\u001b[?25h  Preparing metadata (setup.py) ... \u001b[?25l\u001b[?25hdone\n",
            "  Building wheel for pyngrok (setup.py) ... \u001b[?25l\u001b[?25hdone\n"
          ]
        }
      ]
    },
    {
      "cell_type": "code",
      "source": [
        "!pip install investpy --q"
      ],
      "metadata": {
        "colab": {
          "base_uri": "https://localhost:8080/"
        },
        "id": "7YX2egan9UjX",
        "outputId": "2f73d0bd-5514-4003-b52a-74df4e7f2557"
      },
      "execution_count": 3,
      "outputs": [
        {
          "output_type": "stream",
          "name": "stdout",
          "text": [
            "\u001b[2K     \u001b[90m━━━━━━━━━━━━━━━━━━━━━━━━━━━━━━━━━━━━━━━━\u001b[0m \u001b[32m4.4/4.4 MB\u001b[0m \u001b[31m89.7 MB/s\u001b[0m eta \u001b[36m0:00:00\u001b[0m\n",
            "\u001b[?25h  Preparing metadata (setup.py) ... \u001b[?25l\u001b[?25hdone\n",
            "\u001b[2K     \u001b[90m━━━━━━━━━━━━━━━━━━━━━━━━━━━━━━━━━━━━━━\u001b[0m \u001b[32m235.9/235.9 kB\u001b[0m \u001b[31m29.0 MB/s\u001b[0m eta \u001b[36m0:00:00\u001b[0m\n",
            "\u001b[?25h  Building wheel for investpy (setup.py) ... \u001b[?25l\u001b[?25hdone\n"
          ]
        }
      ]
    },
    {
      "cell_type": "code",
      "source": [
        "#from pyngrok import ngrok"
      ],
      "metadata": {
        "id": "BHEKa7MM0vc1"
      },
      "execution_count": 4,
      "outputs": []
    },
    {
      "cell_type": "code",
      "source": [
        "%%writefile app.py\n",
        "\n",
        "import streamlit as st\n",
        "from PIL import Image\n",
        "import pandas as pd\n",
        "import investpy as inv\n",
        "import yfinance as yfin\n",
        "yfin.pdr_override()\n",
        "import numpy as np\n",
        "from matplotlib import pyplot as plt\n",
        "import seaborn as sns\n",
        "import warnings\n",
        "warnings.filterwarnings(\"ignore\")\n",
        "from datetime import date\n",
        "from prophet import Prophet\n",
        "from bokeh.models.widgets import Div\n",
        "import time\n",
        "\n",
        "def get_ticker():\n",
        "  br = inv.stocks.get_stocks(country='brazil')\n",
        "  lista_tickers = []\n",
        "  sufixo = '.SA'\n",
        "  for i in [ticker for ticker in br.symbol]:\n",
        "    lista_tickers.append(i+sufixo)\n",
        "  return lista_tickers\n",
        "\n",
        "def predict(ticker):\n",
        "  yf = yfin.Ticker(ticker)\n",
        "  symbol =  yf.info['symbol']\n",
        "  description = yf.info['longName']\n",
        "  #print(\"Stock: \", yf.info['symbol'])\n",
        "  #print(\"Name: \" , yf.info['longName'])\n",
        "  hist = yf.history(period=\"max\")\n",
        "  hist = hist[['Close']]\n",
        "  hist.reset_index(inplace=True)\n",
        "  hist = hist.rename({'Date': 'ds', 'Close': 'y'}, axis='columns')\n",
        "  hist['ds'] = hist['ds'].dt.tz_localize(None)\n",
        "  m = Prophet(daily_seasonality=True)\n",
        "  m.fit(hist)\n",
        "  future = m.make_future_dataframe(periods=365)\n",
        "  forecast = m.predict(future)\n",
        "  return (symbol, description, forecast,m)  \n",
        "\n",
        "def save_plot(symbol, description,forecast,m):\n",
        "  print(symbol)\n",
        "  print(\"Predictions\\n\\ty(future value)\\tTrend\\tWeakly\\tYearly\\tDaily\")\n",
        "  fig1 = m.plot(forecast)\n",
        "  fig1.savefig('prophetplot1.png')\n",
        "  st.markdown('### '+symbol+\" -> \"+description)\n",
        "  st.markdown(\"### Prediction values\")\n",
        "  st.image('/content/prophetplot1.png')\n",
        "  #\n",
        "  st.markdown(\"### Components: Trends Weekly Yearly Daily\")\n",
        "  fig2 =  m.plot_components(forecast)\n",
        "  fig2.savefig(\"prophetplot2.png\")\n",
        "  st.image('/content/prophetplot2.png')\n",
        "\n",
        "def main():\n",
        "    \n",
        "    \"\"\"B3 App \"\"\"\n",
        "    \n",
        "    html_page = \"\"\"\n",
        "    <div style=\"background-color:tomato;padding=50px\">\n",
        "        <p style='text-align:center;font-size:50px;font-weight:bold'>Stocks & Prophet</p>\n",
        "    </div>\n",
        "              \"\"\"\n",
        "    st.markdown(html_page, unsafe_allow_html=True)\n",
        "\n",
        "    image = Image.open(\"/content/drive/MyDrive/Logo_B3 .png\")\n",
        "    st.sidebar.image(image,caption=\"\", use_column_width=True)\n",
        "   \n",
        "    activities = [\"Predictions\",\"About\"]\n",
        "    choice = st.sidebar.radio(\"Home\",activities)\n",
        "    Flag=False\n",
        "\n",
        "    if choice == 'Predictions':\n",
        "        #st.write(\"Files:\")\n",
        "        #st.markdown(\"### Files -> .txt\")\n",
        "        #st.write(\"After uploading you can convert to 7 languages\")\n",
        "        st.markdown(\"### Choose a ticker\")\n",
        "        option = st.selectbox('',get_ticker())\n",
        "        #st.write('You selected:', option)\n",
        "        if st.button(\"Predict next 365 days\"):\n",
        "           try:\n",
        "             with st.spinner('Wait for it...'):\n",
        "               symbol, description,forecast,model = predict(option)\n",
        "               save_plot(symbol, description,forecast,model)\n",
        "           except:\n",
        "             st.error('Ops...sorry this ticker likely was renamed.', icon=\"🚨\")\n",
        "          \n",
        "        \n",
        "   \n",
        "\n",
        "    if choice == 'About':\n",
        "        st.subheader(\"I hope you enjoy it and use to learn something\")\n",
        "        st.markdown(\"### Referências\")\n",
        "        st.markdown(\"#### - https://analyzingalpha.com/yfinance-python\")\n",
        "        st.markdown(\"#### - https://analisemacro.com.br/mercado-financeiro/datareader-e-analises-com-yahoo-finance/\")\n",
        "        st.markdown(\"#### - https://levelup.gitconnected.com/how-to-plot-stock-prices-using-python-87ba684d126c\")\n",
        "        st.markdown(\"#### - https://www.youtube.com/watch?v=ZxLJjUcP2LI\")\n",
        "        st.markdown(\"#### - https://www.section.io/engineering-education/how-to-plot-a-candlestick-chart-in-python-using-the-matplotlib-finance-api/\")\n",
        "        st.markdown(\"#### - https://hareeshpb.medium.com/stock-prediction-using-prophet-python-525710e1ab0c\")\n",
        "        st.subheader(\"by Silvio Lima\")\n",
        "        \n",
        "        if st.button(\"Linkedin\"):\n",
        "            js = \"window.open('https://www.linkedin.com/in/silviocesarlima/')\"\n",
        "            html = '<img src onerror=\"{}\">'.format(js)\n",
        "            div = Div(text=html)\n",
        "            st.bokeh_chart(div)\n",
        "\n",
        "\n",
        "\n",
        "if __name__ == '__main__':\n",
        "    main()"
      ],
      "metadata": {
        "colab": {
          "base_uri": "https://localhost:8080/"
        },
        "id": "TXuydq_8hw9E",
        "outputId": "b4b54f68-21ab-475b-99c5-6c2072095f9b"
      },
      "execution_count": 24,
      "outputs": [
        {
          "output_type": "stream",
          "name": "stdout",
          "text": [
            "Overwriting app.py\n"
          ]
        }
      ]
    },
    {
      "cell_type": "code",
      "source": [],
      "metadata": {
        "id": "lRdzkznKBQbq"
      },
      "execution_count": null,
      "outputs": []
    },
    {
      "cell_type": "code",
      "source": [
        "#!nohup streamlit run app.py &"
      ],
      "metadata": {
        "colab": {
          "base_uri": "https://localhost:8080/"
        },
        "id": "tdOu_3TUlLOy",
        "outputId": "fd108f21-a2d2-4a4f-916f-29befe927b3a"
      },
      "execution_count": 8,
      "outputs": [
        {
          "output_type": "stream",
          "name": "stdout",
          "text": [
            "nohup: appending output to 'nohup.out'\n"
          ]
        }
      ]
    },
    {
      "cell_type": "code",
      "source": [
        "#!streamlit run /content/app.py &>/content/logs.txt &"
      ],
      "metadata": {
        "id": "w0XBkGC9ozL8"
      },
      "execution_count": 9,
      "outputs": []
    },
    {
      "cell_type": "code",
      "source": [
        "#ngrok.kill()"
      ],
      "metadata": {
        "id": "mqG9msN_28JJ"
      },
      "execution_count": 16,
      "outputs": []
    },
    {
      "cell_type": "code",
      "source": [
        "# Terminate ngrok port\n",
        "#ngrok.kill()\n",
        "# Set authentication (optional)\n",
        "# Get your authentication token via https://dashboard.ngrok.com/auth\n",
        "#\n",
        "#NGROK_AUTH_TOKEN = \"1gNjeFx7GPLDxTs5H60p5ZeZgl8_2NQZEtskwajdxd3ge8ZSx\"\n",
        "#ngrok.set_auth_token(NGROK_AUTH_TOKEN)"
      ],
      "metadata": {
        "id": "goir5KIcpl2_"
      },
      "execution_count": 17,
      "outputs": []
    },
    {
      "cell_type": "code",
      "source": [
        "# Open an HTTPs tunnel on port 5000 for http://localhost:5000\n",
        "#ngrok_tunnel = ngrok.connect(addr=\"8501\", proto=\"http\", bind_tls=True)\n",
        "#print(\"Streamlit Tracking UI:\", ngrok_tunnel.public_url)"
      ],
      "metadata": {
        "colab": {
          "base_uri": "https://localhost:8080/"
        },
        "id": "LkcTI6NN5JgE",
        "outputId": "dda973cb-b53b-4de6-9640-3234b442c7f2"
      },
      "execution_count": 18,
      "outputs": [
        {
          "output_type": "stream",
          "name": "stderr",
          "text": [
            "WARNING:pyngrok.process.ngrok:t=2023-05-09T23:41:01+0000 lvl=warn msg=\"ngrok config file found at legacy location, move to XDG location\" xdg_path=/root/.config/ngrok/ngrok.yml legacy_path=/root/.ngrok2/ngrok.yml\n"
          ]
        },
        {
          "output_type": "stream",
          "name": "stdout",
          "text": [
            "Streamlit Tracking UI: https://ffd3-34-150-223-252.ngrok-free.app\n"
          ]
        }
      ]
    }
  ]
}